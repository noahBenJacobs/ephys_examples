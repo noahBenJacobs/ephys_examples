{
 "cells": [
  {
   "cell_type": "markdown",
   "metadata": {},
   "source": [
    "# Working with intrinsic ephys data stored in NWBv2 files: downloading, loading, and feature extraction\n",
    "This notebook goes through a basic example of downloading an example Patch-seq based intrinsic ephys data file collected by Allen Institute [description here](https://portal.brain-map.org/explore/classes/multimodal-characterization), and then automatically extracting standardized electrophysiology features from the data file. These data files are stored in [NWBv2 format](https://nwb-schema.readthedocs.io/en/latest/format.html#intracellular-electrophysiology), which is an open data format for electrophysiology data. This notebook is based on the IPFX documentation available [here](https://ipfx.readthedocs.io/en/latest/)."
   ]
  },
  {
   "cell_type": "markdown",
   "metadata": {},
   "source": [
    "## Using IPFX for dataset loading and analysis\n",
    "\n",
    "[IPFX](https://github.com/AllenInstitute/ipfx) is a great Intrinsic Physiology Feature eXtraction library developed by Allen Institute. It works well with ephys data files stored in NWBv2 format and has nice features for loading files, automatically extracting features, etc."
   ]
  },
  {
   "cell_type": "code",
   "execution_count": 28,
   "metadata": {},
   "outputs": [],
   "source": [
    "# Load IPFX libraries\n",
    "\n",
    "from ipfx.dataset.create import create_ephys_data_set\n",
    "from ipfx.data_set_features import extract_data_set_features\n",
    "from ipfx.utilities import drop_failed_sweeps\n",
    "\n",
    "# Load pandas library too\n",
    "import pandas as pd"
   ]
  },
  {
   "cell_type": "markdown",
   "metadata": {},
   "source": [
    "## Download Patch-seq cell-level metadata and visualize\n",
    "\n",
    "Each row in the <code>experiment_metadata</code> dataframe below corresponds to one recorded cell. The <code>file_manifest</code> variable indicates where all of the raw data is stored and where. Each row indicates one type of data, and the <code>cell_specimen_id</code> column indicates from which cell the data were recorded from. The raw data is stored in different repositories based on the data type."
   ]
  },
  {
   "cell_type": "code",
   "execution_count": 33,
   "metadata": {},
   "outputs": [
    {
     "data": {
      "text/html": [
       "<div>\n",
       "<style scoped>\n",
       "    .dataframe tbody tr th:only-of-type {\n",
       "        vertical-align: middle;\n",
       "    }\n",
       "\n",
       "    .dataframe tbody tr th {\n",
       "        vertical-align: top;\n",
       "    }\n",
       "\n",
       "    .dataframe thead th {\n",
       "        text-align: right;\n",
       "    }\n",
       "</style>\n",
       "<table border=\"1\" class=\"dataframe\">\n",
       "  <thead>\n",
       "    <tr style=\"text-align: right;\">\n",
       "      <th></th>\n",
       "      <th>project</th>\n",
       "      <th>cell_specimen_id</th>\n",
       "      <th>cell_specimen_name</th>\n",
       "      <th>hemisphere</th>\n",
       "      <th>structure</th>\n",
       "      <th>donor_id</th>\n",
       "      <th>donor_name</th>\n",
       "      <th>biological_sex</th>\n",
       "      <th>age</th>\n",
       "      <th>ethnicity</th>\n",
       "      <th>...</th>\n",
       "      <th>dendrite_type</th>\n",
       "      <th>apical_dendrite_status</th>\n",
       "      <th>neuron_reconstruction_type</th>\n",
       "      <th>cell_soma_normalized_depth</th>\n",
       "      <th>depth_from_pia_um</th>\n",
       "      <th>ephys_session_id</th>\n",
       "      <th>transcriptomics_sample_id</th>\n",
       "      <th>transcriptomics_batch</th>\n",
       "      <th>corresponding_AIT2.3.1_ID</th>\n",
       "      <th>corresponding_AIT2.3.1_alias</th>\n",
       "    </tr>\n",
       "  </thead>\n",
       "  <tbody>\n",
       "    <tr>\n",
       "      <th>0</th>\n",
       "      <td>mIVSCC-MET</td>\n",
       "      <td>601506507</td>\n",
       "      <td>Vip-IRES-Cre;Ai14-331294.04.01.01</td>\n",
       "      <td>left</td>\n",
       "      <td>VISpm4</td>\n",
       "      <td>331294</td>\n",
       "      <td>Vip-IRES-Cre;Ai14-331294</td>\n",
       "      <td>M</td>\n",
       "      <td>P55</td>\n",
       "      <td>NaN</td>\n",
       "      <td>...</td>\n",
       "      <td>sparsely spiny</td>\n",
       "      <td>NaN</td>\n",
       "      <td>full</td>\n",
       "      <td>0.361015</td>\n",
       "      <td>NaN</td>\n",
       "      <td>601506492</td>\n",
       "      <td>PS0810_E1-50_S88</td>\n",
       "      <td>BT035</td>\n",
       "      <td>CS180626100018</td>\n",
       "      <td>Vip Gpc3 Slc18a3</td>\n",
       "    </tr>\n",
       "    <tr>\n",
       "      <th>1</th>\n",
       "      <td>mIVSCC-MET</td>\n",
       "      <td>601790961</td>\n",
       "      <td>Sst-IRES-Cre;Ai14-331663.04.01.01</td>\n",
       "      <td>left</td>\n",
       "      <td>VISpm5</td>\n",
       "      <td>331663</td>\n",
       "      <td>Sst-IRES-Cre;Ai14-331663</td>\n",
       "      <td>F</td>\n",
       "      <td>P57</td>\n",
       "      <td>NaN</td>\n",
       "      <td>...</td>\n",
       "      <td>aspiny</td>\n",
       "      <td>NaN</td>\n",
       "      <td>full</td>\n",
       "      <td>0.621829</td>\n",
       "      <td>NaN</td>\n",
       "      <td>601790945</td>\n",
       "      <td>PS0817_E1-50_S19</td>\n",
       "      <td>BT036</td>\n",
       "      <td>CS180626100041</td>\n",
       "      <td>Sst Tac2 Myh4</td>\n",
       "    </tr>\n",
       "    <tr>\n",
       "      <th>2</th>\n",
       "      <td>mIVSCC-MET</td>\n",
       "      <td>601803754</td>\n",
       "      <td>Sst-IRES-Cre;Ai14-331663.04.02.02</td>\n",
       "      <td>right</td>\n",
       "      <td>VISp2/3</td>\n",
       "      <td>331663</td>\n",
       "      <td>Sst-IRES-Cre;Ai14-331663</td>\n",
       "      <td>F</td>\n",
       "      <td>P57</td>\n",
       "      <td>NaN</td>\n",
       "      <td>...</td>\n",
       "      <td>sparsely spiny</td>\n",
       "      <td>NaN</td>\n",
       "      <td>full</td>\n",
       "      <td>0.164240</td>\n",
       "      <td>NaN</td>\n",
       "      <td>601803733</td>\n",
       "      <td>PS0817_E1-50_S25</td>\n",
       "      <td>BT036</td>\n",
       "      <td>CS180626100035</td>\n",
       "      <td>Sst Calb2 Pdlim5</td>\n",
       "    </tr>\n",
       "    <tr>\n",
       "      <th>3</th>\n",
       "      <td>mIVSCC-MET</td>\n",
       "      <td>601808698</td>\n",
       "      <td>Sst-IRES-Cre;Ai14-331663.04.02.03</td>\n",
       "      <td>right</td>\n",
       "      <td>VISp5</td>\n",
       "      <td>331663</td>\n",
       "      <td>Sst-IRES-Cre;Ai14-331663</td>\n",
       "      <td>F</td>\n",
       "      <td>P57</td>\n",
       "      <td>NaN</td>\n",
       "      <td>...</td>\n",
       "      <td>aspiny</td>\n",
       "      <td>NaN</td>\n",
       "      <td>full</td>\n",
       "      <td>0.483030</td>\n",
       "      <td>NaN</td>\n",
       "      <td>601808619</td>\n",
       "      <td>PS0817_E1-50_S26</td>\n",
       "      <td>BT036</td>\n",
       "      <td>CS180626100043</td>\n",
       "      <td>Sst Hpse Cbln4</td>\n",
       "    </tr>\n",
       "    <tr>\n",
       "      <th>4</th>\n",
       "      <td>mIVSCC-MET</td>\n",
       "      <td>601810307</td>\n",
       "      <td>Sst-IRES-Cre;Ai14-331663.04.02.04</td>\n",
       "      <td>right</td>\n",
       "      <td>VISp2/3</td>\n",
       "      <td>331663</td>\n",
       "      <td>Sst-IRES-Cre;Ai14-331663</td>\n",
       "      <td>F</td>\n",
       "      <td>P57</td>\n",
       "      <td>NaN</td>\n",
       "      <td>...</td>\n",
       "      <td>aspiny</td>\n",
       "      <td>NaN</td>\n",
       "      <td>full</td>\n",
       "      <td>0.295656</td>\n",
       "      <td>NaN</td>\n",
       "      <td>601810292</td>\n",
       "      <td>PS0817_E1-50_S27</td>\n",
       "      <td>BT036</td>\n",
       "      <td>CS180626100034</td>\n",
       "      <td>Sst Calb2 Necab1</td>\n",
       "    </tr>\n",
       "  </tbody>\n",
       "</table>\n",
       "<p>5 rows × 22 columns</p>\n",
       "</div>"
      ],
      "text/plain": [
       "      project  cell_specimen_id                 cell_specimen_name hemisphere  \\\n",
       "0  mIVSCC-MET         601506507  Vip-IRES-Cre;Ai14-331294.04.01.01       left   \n",
       "1  mIVSCC-MET         601790961  Sst-IRES-Cre;Ai14-331663.04.01.01       left   \n",
       "2  mIVSCC-MET         601803754  Sst-IRES-Cre;Ai14-331663.04.02.02      right   \n",
       "3  mIVSCC-MET         601808698  Sst-IRES-Cre;Ai14-331663.04.02.03      right   \n",
       "4  mIVSCC-MET         601810307  Sst-IRES-Cre;Ai14-331663.04.02.04      right   \n",
       "\n",
       "  structure  donor_id                donor_name biological_sex  age  \\\n",
       "0    VISpm4    331294  Vip-IRES-Cre;Ai14-331294              M  P55   \n",
       "1    VISpm5    331663  Sst-IRES-Cre;Ai14-331663              F  P57   \n",
       "2   VISp2/3    331663  Sst-IRES-Cre;Ai14-331663              F  P57   \n",
       "3     VISp5    331663  Sst-IRES-Cre;Ai14-331663              F  P57   \n",
       "4   VISp2/3    331663  Sst-IRES-Cre;Ai14-331663              F  P57   \n",
       "\n",
       "   ethnicity  ...   dendrite_type apical_dendrite_status  \\\n",
       "0        NaN  ...  sparsely spiny                    NaN   \n",
       "1        NaN  ...          aspiny                    NaN   \n",
       "2        NaN  ...  sparsely spiny                    NaN   \n",
       "3        NaN  ...          aspiny                    NaN   \n",
       "4        NaN  ...          aspiny                    NaN   \n",
       "\n",
       "  neuron_reconstruction_type cell_soma_normalized_depth depth_from_pia_um  \\\n",
       "0                       full                   0.361015               NaN   \n",
       "1                       full                   0.621829               NaN   \n",
       "2                       full                   0.164240               NaN   \n",
       "3                       full                   0.483030               NaN   \n",
       "4                       full                   0.295656               NaN   \n",
       "\n",
       "   ephys_session_id  transcriptomics_sample_id  transcriptomics_batch  \\\n",
       "0         601506492           PS0810_E1-50_S88                  BT035   \n",
       "1         601790945           PS0817_E1-50_S19                  BT036   \n",
       "2         601803733           PS0817_E1-50_S25                  BT036   \n",
       "3         601808619           PS0817_E1-50_S26                  BT036   \n",
       "4         601810292           PS0817_E1-50_S27                  BT036   \n",
       "\n",
       "  corresponding_AIT2.3.1_ID corresponding_AIT2.3.1_alias  \n",
       "0            CS180626100018             Vip Gpc3 Slc18a3  \n",
       "1            CS180626100041                Sst Tac2 Myh4  \n",
       "2            CS180626100035             Sst Calb2 Pdlim5  \n",
       "3            CS180626100043               Sst Hpse Cbln4  \n",
       "4            CS180626100034             Sst Calb2 Necab1  \n",
       "\n",
       "[5 rows x 22 columns]"
      ]
     },
     "execution_count": 33,
     "metadata": {},
     "output_type": "execute_result"
    }
   ],
   "source": [
    "from ipfx.data_access import get_archive_info\n",
    "archive_url, file_manifest, experiment_metadata = get_archive_info(dataset=\"mouse\")\n",
    "\n",
    "experiment_metadata.head()"
   ]
  },
  {
   "cell_type": "code",
   "execution_count": 34,
   "metadata": {},
   "outputs": [
    {
     "data": {
      "text/html": [
       "<div>\n",
       "<style scoped>\n",
       "    .dataframe tbody tr th:only-of-type {\n",
       "        vertical-align: middle;\n",
       "    }\n",
       "\n",
       "    .dataframe tbody tr th {\n",
       "        vertical-align: top;\n",
       "    }\n",
       "\n",
       "    .dataframe thead th {\n",
       "        text-align: right;\n",
       "    }\n",
       "</style>\n",
       "<table border=\"1\" class=\"dataframe\">\n",
       "  <thead>\n",
       "    <tr style=\"text-align: right;\">\n",
       "      <th></th>\n",
       "      <th>file_id</th>\n",
       "      <th>file_name</th>\n",
       "      <th>file_size</th>\n",
       "      <th>sha256_checksum</th>\n",
       "      <th>md5_checksum</th>\n",
       "      <th>technique</th>\n",
       "      <th>file_type</th>\n",
       "      <th>archive</th>\n",
       "      <th>archive_uri</th>\n",
       "      <th>project</th>\n",
       "      <th>cell_specimen_id</th>\n",
       "    </tr>\n",
       "  </thead>\n",
       "  <tbody>\n",
       "    <tr>\n",
       "      <th>0</th>\n",
       "      <td>601506507</td>\n",
       "      <td>601506507.marker</td>\n",
       "      <td>268</td>\n",
       "      <td>305938ce75d55c3f43fbbe2d1d57e203139fa0c357bd73...</td>\n",
       "      <td>ecf2285ccbf5274af7d6a31a855ce950</td>\n",
       "      <td>morphology</td>\n",
       "      <td>marker_swc</td>\n",
       "      <td>BIL</td>\n",
       "      <td>ftp://download.brainlib.org:8811/biccn/zeng/ps...</td>\n",
       "      <td>mIVSCC-MET</td>\n",
       "      <td>601506507.0</td>\n",
       "    </tr>\n",
       "    <tr>\n",
       "      <th>1</th>\n",
       "      <td>601790961</td>\n",
       "      <td>601790961.marker</td>\n",
       "      <td>327</td>\n",
       "      <td>84d5ee692a057e55907c82ccbb5b8a894cf2a9eaab9759...</td>\n",
       "      <td>cb0374c42493a567bbb5fa70c4fa79ae</td>\n",
       "      <td>morphology</td>\n",
       "      <td>marker_swc</td>\n",
       "      <td>BIL</td>\n",
       "      <td>ftp://download.brainlib.org:8811/biccn/zeng/ps...</td>\n",
       "      <td>mIVSCC-MET</td>\n",
       "      <td>601790961.0</td>\n",
       "    </tr>\n",
       "    <tr>\n",
       "      <th>2</th>\n",
       "      <td>601803754</td>\n",
       "      <td>601803754.marker</td>\n",
       "      <td>426</td>\n",
       "      <td>0aabcc948190e7e50f5ef3aa04c5fefce6b75127d30e85...</td>\n",
       "      <td>df13d1a6c2088edd92eda95ddefebac2</td>\n",
       "      <td>morphology</td>\n",
       "      <td>marker_swc</td>\n",
       "      <td>BIL</td>\n",
       "      <td>ftp://download.brainlib.org:8811/biccn/zeng/ps...</td>\n",
       "      <td>mIVSCC-MET</td>\n",
       "      <td>601803754.0</td>\n",
       "    </tr>\n",
       "    <tr>\n",
       "      <th>3</th>\n",
       "      <td>601808698</td>\n",
       "      <td>601808698.marker</td>\n",
       "      <td>320</td>\n",
       "      <td>192fd9ef81c04dec0a18bc51b5be19982c47119d81ebee...</td>\n",
       "      <td>f589c2e0dddc7e5a361b28261ece426a</td>\n",
       "      <td>morphology</td>\n",
       "      <td>marker_swc</td>\n",
       "      <td>BIL</td>\n",
       "      <td>ftp://download.brainlib.org:8811/biccn/zeng/ps...</td>\n",
       "      <td>mIVSCC-MET</td>\n",
       "      <td>601808698.0</td>\n",
       "    </tr>\n",
       "    <tr>\n",
       "      <th>4</th>\n",
       "      <td>601810307</td>\n",
       "      <td>601810307.marker</td>\n",
       "      <td>434</td>\n",
       "      <td>fec246a9d6ec3d3b7d026ebb57552ab6a548853d241c95...</td>\n",
       "      <td>fc14084edb78f72b21289accdb38e41e</td>\n",
       "      <td>morphology</td>\n",
       "      <td>marker_swc</td>\n",
       "      <td>BIL</td>\n",
       "      <td>ftp://download.brainlib.org:8811/biccn/zeng/ps...</td>\n",
       "      <td>mIVSCC-MET</td>\n",
       "      <td>601810307.0</td>\n",
       "    </tr>\n",
       "  </tbody>\n",
       "</table>\n",
       "</div>"
      ],
      "text/plain": [
       "     file_id         file_name  file_size  \\\n",
       "0  601506507  601506507.marker        268   \n",
       "1  601790961  601790961.marker        327   \n",
       "2  601803754  601803754.marker        426   \n",
       "3  601808698  601808698.marker        320   \n",
       "4  601810307  601810307.marker        434   \n",
       "\n",
       "                                     sha256_checksum  \\\n",
       "0  305938ce75d55c3f43fbbe2d1d57e203139fa0c357bd73...   \n",
       "1  84d5ee692a057e55907c82ccbb5b8a894cf2a9eaab9759...   \n",
       "2  0aabcc948190e7e50f5ef3aa04c5fefce6b75127d30e85...   \n",
       "3  192fd9ef81c04dec0a18bc51b5be19982c47119d81ebee...   \n",
       "4  fec246a9d6ec3d3b7d026ebb57552ab6a548853d241c95...   \n",
       "\n",
       "                       md5_checksum   technique   file_type archive  \\\n",
       "0  ecf2285ccbf5274af7d6a31a855ce950  morphology  marker_swc     BIL   \n",
       "1  cb0374c42493a567bbb5fa70c4fa79ae  morphology  marker_swc     BIL   \n",
       "2  df13d1a6c2088edd92eda95ddefebac2  morphology  marker_swc     BIL   \n",
       "3  f589c2e0dddc7e5a361b28261ece426a  morphology  marker_swc     BIL   \n",
       "4  fc14084edb78f72b21289accdb38e41e  morphology  marker_swc     BIL   \n",
       "\n",
       "                                         archive_uri     project  \\\n",
       "0  ftp://download.brainlib.org:8811/biccn/zeng/ps...  mIVSCC-MET   \n",
       "1  ftp://download.brainlib.org:8811/biccn/zeng/ps...  mIVSCC-MET   \n",
       "2  ftp://download.brainlib.org:8811/biccn/zeng/ps...  mIVSCC-MET   \n",
       "3  ftp://download.brainlib.org:8811/biccn/zeng/ps...  mIVSCC-MET   \n",
       "4  ftp://download.brainlib.org:8811/biccn/zeng/ps...  mIVSCC-MET   \n",
       "\n",
       "   cell_specimen_id  \n",
       "0       601506507.0  \n",
       "1       601790961.0  \n",
       "2       601803754.0  \n",
       "3       601808698.0  \n",
       "4       601810307.0  "
      ]
     },
     "execution_count": 34,
     "metadata": {},
     "output_type": "execute_result"
    }
   ],
   "source": [
    "file_manifest.head()"
   ]
  },
  {
   "cell_type": "markdown",
   "metadata": {},
   "source": [
    "## Download intrinsic ephys data from DANDI data archive for one cell\n",
    "\n",
    "We'll download intrinsic ephys data for one cell shown below (<code>cell_specimen_id == 601790961</code>)."
   ]
  },
  {
   "cell_type": "code",
   "execution_count": 36,
   "metadata": {},
   "outputs": [
    {
     "name": "stdout",
     "output_type": "stream",
     "text": [
      "https://girder.dandiarchive.org/api/v1/item/5edb2e312dace54b6f9b39b3/download\n",
      "sub-601462951_ses-601790945_icephys.nwb\n",
      "downloading data for cell from DANDI...\n",
      "data downloaded!\n"
     ]
    }
   ],
   "source": [
    "import urllib.request\n",
    "\n",
    "row = file_manifest.query('cell_specimen_id == 601790961 & technique == \"intracellular_electrophysiology\"')\n",
    "archive_uri = row['archive_uri'].values[0]\n",
    "file_name = row['file_name'].values[0]\n",
    "print('Intrinsic ephys file url: ' + archive_uri)\n",
    "print('Intrinsic ephys file name: ' + file_name)\n",
    "\n",
    "print('downloading data for cell from DANDI...')\n",
    "urllib.request.urlretrieve(archive_uri, file_name)\n",
    "print('data downloaded!')\n"
   ]
  },
  {
   "cell_type": "markdown",
   "metadata": {},
   "source": [
    "## Load downloaded intrinsic ephys NWBv2 file into IPFX data structure\n",
    "\n",
    "We're now going to use IPFX utilities to load the NWBv2 data file that we just downloaded into a specific IPFX-based data structure that makes it easy to work with the NWBv2 file type."
   ]
  },
  {
   "cell_type": "code",
   "execution_count": 39,
   "metadata": {},
   "outputs": [
    {
     "name": "stdout",
     "output_type": "stream",
     "text": [
      "loading dataset into data structure...\n"
     ]
    }
   ],
   "source": [
    "from ipfx.dataset.create import create_ephys_data_set\n",
    "from ipfx.utilities import drop_failed_sweeps\n",
    "\n",
    "# Create Ephys Data Set\n",
    "\n",
    "print('loading dataset into data structure...')\n",
    "#nwb_file_name = '/Users/stripathy/Downloads/sub-601462951_ses-601810292_icephys.nwb'\n",
    "data_set = create_ephys_data_set(nwb_file=file_name) ##loads nwb file into ipfx data structure\n",
    "\n",
    "# Drop failed sweeps: sweeps with incomplete recording or failing QC criteria\n",
    "drop_failed_sweeps(data_set)\n"
   ]
  },
  {
   "cell_type": "markdown",
   "metadata": {},
   "source": [
    "## Extract ephys features using IPFX\n",
    "\n",
    "We're now going to use a canned IPFX function called <code>extract_data_set_features</code> to extract a number of features from the raw ephys data file that we just loaded in. Take a look at what is stored in each of the output variables."
   ]
  },
  {
   "cell_type": "code",
   "execution_count": 50,
   "metadata": {},
   "outputs": [
    {
     "name": "stderr",
     "output_type": "stream",
     "text": [
      "/Users/stripathy/anaconda3/lib/python3.7/site-packages/scipy/signal/_arraytools.py:45: FutureWarning: Using a non-tuple sequence for multidimensional indexing is deprecated; use `arr[tuple(seq)]` instead of `arr[seq]`. In the future this will be interpreted as an array index, `arr[np.array(seq)]`, which will result either in an error or a different result.\n",
      "  b = a[a_slice]\n",
      "/Users/stripathy/anaconda3/lib/python3.7/site-packages/ipfx/spike_features.py:87: RuntimeWarning: invalid value encountered in less\n",
      "  width_levels[width_levels < v[spike_indexes]] = thresh_to_peak_levels[width_levels < v[spike_indexes]]\n",
      "/Users/stripathy/anaconda3/lib/python3.7/site-packages/scipy/signal/_arraytools.py:45: FutureWarning: Using a non-tuple sequence for multidimensional indexing is deprecated; use `arr[tuple(seq)]` instead of `arr[seq]`. In the future this will be interpreted as an array index, `arr[np.array(seq)]`, which will result either in an error or a different result.\n",
      "  b = a[a_slice]\n",
      "/Users/stripathy/anaconda3/lib/python3.7/site-packages/scipy/signal/_arraytools.py:45: FutureWarning: Using a non-tuple sequence for multidimensional indexing is deprecated; use `arr[tuple(seq)]` instead of `arr[seq]`. In the future this will be interpreted as an array index, `arr[np.array(seq)]`, which will result either in an error or a different result.\n",
      "  b = a[a_slice]\n",
      "/Users/stripathy/anaconda3/lib/python3.7/site-packages/scipy/signal/_arraytools.py:45: FutureWarning: Using a non-tuple sequence for multidimensional indexing is deprecated; use `arr[tuple(seq)]` instead of `arr[seq]`. In the future this will be interpreted as an array index, `arr[np.array(seq)]`, which will result either in an error or a different result.\n",
      "  b = a[a_slice]\n"
     ]
    },
    {
     "data": {
      "text/plain": [
       "{'rheobase_sweep_num': 35,\n",
       " 'thumbnail_sweep_num': 37,\n",
       " 'vrest': -80.4909348487854,\n",
       " 'ri': 157.421812415123,\n",
       " 'sag': 0.035202305763959885,\n",
       " 'tau': 17.4862794790775,\n",
       " 'vm_for_sag': -98.50001,\n",
       " 'f_i_curve_slope': 0.39238289729191633,\n",
       " 'adaptation': 0.20960533746599339,\n",
       " 'latency': 0.028739999999999988,\n",
       " 'avg_isi': 120.85714285714288,\n",
       " 'upstroke_downstroke_ratio_long_square': 2.100436206191834,\n",
       " 'peak_v_long_square': 6.78125,\n",
       " 'peak_t_long_square': 0.5824400000000001,\n",
       " 'trough_v_long_square': -68.25,\n",
       " 'trough_t_long_square': 0.58388,\n",
       " 'fast_trough_v_long_square': -68.03125,\n",
       " 'fast_trough_t_long_square': 0.5837399999999999,\n",
       " 'slow_trough_v_long_square': None,\n",
       " 'slow_trough_t_long_square': None,\n",
       " 'threshold_v_long_square': -54.093753814697266,\n",
       " 'threshold_i_long_square': 110,\n",
       " 'threshold_t_long_square': 0.58206,\n",
       " 'upstroke_downstroke_ratio_ramp': 2.085217661323286,\n",
       " 'peak_v_ramp': 13.71875,\n",
       " 'peak_t_ramp': 5.38462,\n",
       " 'trough_v_ramp': -66.8125,\n",
       " 'trough_t_ramp': 5.38602,\n",
       " 'fast_trough_v_ramp': -66.6875,\n",
       " 'fast_trough_t_ramp': 5.3859,\n",
       " 'slow_trough_v_ramp': None,\n",
       " 'slow_trough_t_ramp': None,\n",
       " 'threshold_v_ramp': -52.15625,\n",
       " 'threshold_i_ramp': 122.12501,\n",
       " 'threshold_t_ramp': 5.38422,\n",
       " 'upstroke_downstroke_ratio_short_square': 2.020249070141169,\n",
       " 'peak_v_short_square': 11.229167,\n",
       " 'peak_t_short_square': 0.5033333333333333,\n",
       " 'trough_v_short_square': -81.072914,\n",
       " 'trough_t_short_square': 1.0667933333333333,\n",
       " 'fast_trough_v_short_square': -70.84376,\n",
       " 'fast_trough_t_short_square': 0.5045733333333333,\n",
       " 'slow_trough_v_short_square': None,\n",
       " 'slow_trough_t_short_square': None,\n",
       " 'threshold_v_short_square': -54.6875,\n",
       " 'threshold_i_short_square': 560.0,\n",
       " 'threshold_t_short_square': 0.5029866666666666}"
      ]
     },
     "execution_count": 50,
     "metadata": {},
     "output_type": "execute_result"
    }
   ],
   "source": [
    "from ipfx.data_set_features import extract_data_set_features\n",
    "\n",
    "# Calculate ephys features\n",
    "cell_features, sweep_features, cell_record, sweep_records, _, _ = extract_data_set_features(data_set)\n",
    "\n",
    "# print cell_record\n",
    "cell_record"
   ]
  },
  {
   "cell_type": "markdown",
   "metadata": {},
   "source": [
    "## Plot one sweep from ephys file\n",
    "\n",
    "Good electrophysiologists (and computational neuroscientists too!) always plot their data before relying on the output of automatic feature extraction pipelines."
   ]
  },
  {
   "cell_type": "code",
   "execution_count": 52,
   "metadata": {},
   "outputs": [
    {
     "data": {
      "image/png": "[encoded data removed]",
      "text/plain": [
       "<Figure size 432x288 with 2 Axes>"
      ]
     },
     "metadata": {
      "needs_background": "light"
     },
     "output_type": "display_data"
    }
   ],
   "source": [
    "import numpy as np\n",
    "import pandas as pd\n",
    "import matplotlib.pyplot as plt\n",
    "import seaborn as sns\n",
    "\n",
    "# these are basic IPFX objects for working with sweeps and sets of sweeps\n",
    "from ipfx.sweep import Sweep, SweepSet \n",
    "\n",
    "sweep_plot_index = 37 # which sweep number do you want to plot?\n",
    "\n",
    "curr_sweep = data_set.sweep_set(sweep_plot_index).sweeps[0]\n",
    "t = curr_sweep.t\n",
    "v = curr_sweep.v\n",
    "i = curr_sweep.i\n",
    "\n",
    "fig, axes = plt.subplots(2, 1, sharex=True)\n",
    "\n",
    "axes[0].plot(t, v)\n",
    "axes[0].set_xlim(.5, 2.5)\n",
    "axes[0].set_ylabel(\"Membrane voltage (mV)\")\n",
    "\n",
    "axes[1].plot(t, i, c=\"orange\")\n",
    "axes[1].set_ylabel(\"Injected current (pA)\")\n",
    "\n",
    "sns.despine()"
   ]
  },
  {
   "cell_type": "markdown",
   "metadata": {},
   "source": [
    "## Extract features from long step current injection sweeps\n",
    "\n",
    "We'll now use a set of specific utilities for extracting spikes and spike train features from a set of \"standard\" 1 second long step current injection stimuli."
   ]
  },
  {
   "cell_type": "code",
   "execution_count": 54,
   "metadata": {},
   "outputs": [
    {
     "name": "stderr",
     "output_type": "stream",
     "text": [
      "/Users/stripathy/anaconda3/lib/python3.7/site-packages/scipy/signal/_arraytools.py:45: FutureWarning: Using a non-tuple sequence for multidimensional indexing is deprecated; use `arr[tuple(seq)]` instead of `arr[seq]`. In the future this will be interpreted as an array index, `arr[np.array(seq)]`, which will result either in an error or a different result.\n",
      "  b = a[a_slice]\n",
      "/Users/stripathy/anaconda3/lib/python3.7/site-packages/ipfx/spike_features.py:87: RuntimeWarning: invalid value encountered in less\n",
      "  width_levels[width_levels < v[spike_indexes]] = thresh_to_peak_levels[width_levels < v[spike_indexes]]\n"
     ]
    },
    {
     "name": "stdout",
     "output_type": "stream",
     "text": [
      "tau: 0.0174862794790775\n",
      "v_baseline: -80.4909348487854\n",
      "input_resistance: 157.421812415123\n",
      "vm_for_sag: -98.50001\n",
      "fi_fit_slope: 0.39239074510681843\n",
      "sag: 0.035204436630010605\n",
      "rheobase_i: 110.0\n"
     ]
    }
   ],
   "source": [
    "from ipfx.feature_extractor import SpikeFeatureExtractor, SpikeTrainFeatureExtractor\n",
    "\n",
    "import ipfx.stimulus_protocol_analysis as spa\n",
    "from ipfx.epochs import get_stim_epoch\n",
    "import matplotlib.pyplot as plt\n",
    "\n",
    "\n",
    "# get sweep table of Long Square sweeps\n",
    "long_square_table = data_set.filtered_sweep_table(\n",
    "    stimuli=data_set.ontology.long_square_names\n",
    ")\n",
    "long_square_sweeps = data_set.sweep_set(long_square_table.sweep_number)\n",
    "\n",
    "# Select epoch corresponding to the actual recording from the sweeps\n",
    "# and align sweeps so that the experiment would start at the same time\n",
    "long_square_sweeps.select_epoch(\"recording\")\n",
    "long_square_sweeps.align_to_start_of_epoch(\"experiment\")\n",
    "\n",
    "# find the start and end time of the stimulus\n",
    "# (treating the first sweep as representative)\n",
    "stim_start_index, stim_end_index = get_stim_epoch(long_square_sweeps.i[0])\n",
    "stim_start_time = long_square_sweeps.t[0][stim_start_index]\n",
    "stim_end_time = long_square_sweeps.t[0][stim_end_index]\n",
    "\n",
    "# build the extractors\n",
    "spfx = SpikeFeatureExtractor(start=stim_start_time, end=stim_end_time)\n",
    "sptfx = SpikeTrainFeatureExtractor(start=stim_start_time, end=stim_end_time)\n",
    "\n",
    "# run the analysis and print out a few of the features\n",
    "long_square_analysis = spa.LongSquareAnalysis(spfx, sptfx, subthresh_min_amp=-100.0)\n",
    "data = long_square_analysis.analyze(long_square_sweeps)\n",
    "\n",
    "fields_to_print = [\n",
    "    'tau',\n",
    "    'v_baseline',\n",
    "    'input_resistance',\n",
    "    'vm_for_sag',\n",
    "    'fi_fit_slope',\n",
    "    'sag',\n",
    "    'rheobase_i'\n",
    "]\n",
    "\n",
    "for field in fields_to_print:\n",
    "    print(\"%s: %s\" % (field, str(data[field])))\n"
   ]
  },
  {
   "cell_type": "markdown",
   "metadata": {},
   "source": [
    "## Plot a FI curve (Spike frequency vs Injected current) \n",
    "This uses the <code>data</code> variable generated above "
   ]
  },
  {
   "cell_type": "code",
   "execution_count": 55,
   "metadata": {},
   "outputs": [
    {
     "data": {
      "image/png": "[encoded data removed]",
      "text/plain": [
       "<Figure size 432x288 with 1 Axes>"
      ]
     },
     "metadata": {
      "needs_background": "light"
     },
     "output_type": "display_data"
    }
   ],
   "source": [
    "# Plot stimulus amplitude vs. firing rate\n",
    "spiking_sweeps = data['spiking_sweeps'].sort_values(by='stim_amp')\n",
    "plt.plot(spiking_sweeps.stim_amp,\n",
    "         spiking_sweeps.avg_rate, '.-')\n",
    "plt.xlabel('Stimulus amplitude (pA)')\n",
    "plt.ylabel('Average firing rate (Hz)')\n",
    "\n",
    "plt.show()"
   ]
  },
  {
   "cell_type": "markdown",
   "metadata": {},
   "source": [
    "## Output extracted features from long square pulses for downstream analysis"
   ]
  },
  {
   "cell_type": "code",
   "execution_count": 57,
   "metadata": {},
   "outputs": [],
   "source": [
    "def summarize_cell_ephys_features(lsa_results):\n",
    "    hero_keep_features = ['adapt', 'avg_rate', 'first_isi', 'isi_cv', 'latency', 'mean_isi', 'median_isi', \n",
    "                          'stim_amp']\n",
    "    rheo_keep_features = ['threshold_v', 'peak_v', 'trough_v', \n",
    "     'fast_trough_v', 'adp_v', 'width', 'upstroke_downstroke_ratio', 'peak_t', 'fast_trough_t', 'trough_t']\n",
    "    \n",
    "    overall_cell_keep_features = ['v_baseline', 'rheobase_i', 'fi_fit_slope', \n",
    "                                  'sag', 'vm_for_sag', 'input_resistance', 'tau']\n",
    "    \n",
    "    hero_small_dict = lsa_results['hero_sweep'][hero_keep_features]\n",
    "    rheobase_sweep_index = lsa_results['rheobase_sweep'].name\n",
    "    rheobase_sweep = lsa_results['spikes_set'][rheobase_sweep_index].iloc[0]\n",
    "    \n",
    "    rheo_spike_small_dict = rheobase_sweep[rheo_keep_features]\n",
    "    rheo_first_isi = lsa_results['rheobase_sweep']['first_isi']\n",
    "    rheo_spike_small_dict['rheo_first_isi'] = rheo_first_isi\n",
    "\n",
    "    spike_comb_dict = {**hero_small_dict, **rheo_spike_small_dict}\n",
    "\n",
    "    overall_cell_features = {x: lsa_results[x] for x in overall_cell_keep_features if x in lsa_results}\n",
    "    final_cell_feature_dict = {**spike_comb_dict, **overall_cell_features}\n",
    "    return(final_cell_feature_dict)"
   ]
  },
  {
   "cell_type": "code",
   "execution_count": 58,
   "metadata": {},
   "outputs": [
    {
     "data": {
      "text/plain": [
       "{'adapt': 0.20960533746599339,\n",
       " 'avg_rate': 8.000160003200065,\n",
       " 'first_isi': 0.023479999999999945,\n",
       " 'isi_cv': 1.0965321022292043,\n",
       " 'latency': 0.028739999999999988,\n",
       " 'mean_isi': 0.12085714285714287,\n",
       " 'median_isi': 0.05242000000000013,\n",
       " 'stim_amp': 150.0,\n",
       " 'threshold_v': -54.093754,\n",
       " 'peak_v': 6.78125,\n",
       " 'trough_v': -68.25,\n",
       " 'fast_trough_v': -68.03125,\n",
       " 'adp_v': nan,\n",
       " 'width': 0.0005399999999999849,\n",
       " 'upstroke_downstroke_ratio': 2.100436206191834,\n",
       " 'peak_t': 0.5824400000000001,\n",
       " 'fast_trough_t': 0.5837399999999999,\n",
       " 'trough_t': 0.58388,\n",
       " 'rheo_first_isi': nan,\n",
       " 'v_baseline': -80.4909348487854,\n",
       " 'rheobase_i': 110.0,\n",
       " 'fi_fit_slope': 0.39239074510681843,\n",
       " 'sag': 0.035204436630010605,\n",
       " 'vm_for_sag': -98.50001,\n",
       " 'input_resistance': 157.421812415123,\n",
       " 'tau': 0.0174862794790775}"
      ]
     },
     "execution_count": 58,
     "metadata": {},
     "output_type": "execute_result"
    }
   ],
   "source": [
    "summarize_cell_ephys_features(data)"
   ]
  }
 ],
 "metadata": {
  "kernelspec": {
   "display_name": "Python 3",
   "language": "python",
   "name": "python3"
  },
  "language_info": {
   "codemirror_mode": {
    "name": "ipython",
    "version": 3
   },
   "file_extension": ".py",
   "mimetype": "text/x-python",
   "name": "python",
   "nbconvert_exporter": "python",
   "pygments_lexer": "ipython3",
   "version": "3.7.1"
  }
 },
 "nbformat": 4,
 "nbformat_minor": 2
}
